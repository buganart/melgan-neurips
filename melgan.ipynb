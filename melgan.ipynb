{
  "nbformat": 4,
  "nbformat_minor": 0,
  "metadata": {
    "colab": {
      "name": "melgan v2",
      "provenance": [],
      "collapsed_sections": [],
      "machine_shape": "hm",
      "include_colab_link": true
    },
    "kernelspec": {
      "name": "python3",
      "display_name": "Python 3"
    },
    "accelerator": "GPU"
  },
  "cells": [
    {
      "cell_type": "markdown",
      "metadata": {
        "id": "view-in-github",
        "colab_type": "text"
      },
      "source": [
        "<a href=\"https://colab.research.google.com/github/buganart/melgan-neurips/blob/master/melgan.ipynb\" target=\"_parent\"><img src=\"https://colab.research.google.com/assets/colab-badge.svg\" alt=\"Open In Colab\"/></a>"
      ]
    },
    {
      "cell_type": "code",
      "metadata": {
        "id": "jbp-CL5ijb4e",
        "cellView": "form"
      },
      "source": [
        "#@markdown Before starting please save the notebook in your drive by clicking on `File -> Save a copy in drive`"
      ],
      "execution_count": 1,
      "outputs": []
    },
    {
      "cell_type": "code",
      "metadata": {
        "id": "XQ-pH7tyK9xW",
        "cellView": "form",
        "outputId": "e3c35018-99a7-49f1-d2fe-8ba15a50527d",
        "colab": {
          "base_uri": "https://localhost:8080/"
        }
      },
      "source": [
        "#@markdown Check GPU, should be a Tesla V100\n",
        "!nvidia-smi -L\n",
        "import os\n",
        "print(f\"We have {os.cpu_count()} CPU cores.\")"
      ],
      "execution_count": 3,
      "outputs": [
        {
          "output_type": "stream",
          "text": [
            "GPU 0: Tesla V100-SXM2-16GB (UUID: GPU-242eeefb-9984-6099-c889-1236ed9e5b54)\n",
            "We have 4 CPU cores.\n"
          ],
          "name": "stdout"
        }
      ]
    },
    {
      "cell_type": "code",
      "metadata": {
        "id": "BJyxzcLOhgWY",
        "cellView": "form",
        "outputId": "89887b8e-b322-4e6a-e5c4-aa205820d5dd",
        "colab": {
          "base_uri": "https://localhost:8080/"
        }
      },
      "source": [
        "#@markdown Mount google drive\n",
        "from google.colab import drive\n",
        "drive.mount('/content/drive')\n",
        "\n",
        "from pathlib import Path\n",
        "if not Path(\"/content/drive/My Drive/IRCMS_GAN_collaborative_database\").exists():\n",
        "    raise RuntimeError(\n",
        "        \"Shortcut to our shared drive folder doesn't exits.\\n\\n\"\n",
        "        \"\\t1. Go to the google drive web UI\\n\"\n",
        "        \"\\t2. Right click shared folder IRCMS_GAN_collaborative_database and click \\\"Add shortcut to Drive\\\"\"\n",
        "    )\n",
        "\n",
        "def clear_on_success(msg=\"Ok!\"):\n",
        "    if _exit_code == 0:\n",
        "        output.clear()\n",
        "        print(msg)"
      ],
      "execution_count": 4,
      "outputs": [
        {
          "output_type": "stream",
          "text": [
            "Mounted at /content/drive\n"
          ],
          "name": "stdout"
        }
      ]
    },
    {
      "cell_type": "code",
      "metadata": {
        "id": "9-L3BlfGTfbJ",
        "cellView": "form",
        "outputId": "750f8d40-a1c9-4ab3-9e9f-da60348791da",
        "colab": {
          "base_uri": "https://localhost:8080/"
        }
      },
      "source": [
        "#@markdown Install wandb and log in\n",
        "from google.colab import output\n",
        "!pip install wandb==0.10.8\n",
        "clear_on_success()\n",
        "!wandb login\n",
        "clear_on_success(\"Ok! Logged into wandb!\")"
      ],
      "execution_count": 6,
      "outputs": [
        {
          "output_type": "stream",
          "text": [
            "Ok! Logged into wandb!\n"
          ],
          "name": "stdout"
        }
      ]
    },
    {
      "cell_type": "code",
      "metadata": {
        "id": "BVjGm8m_q9R6",
        "cellView": "form"
      },
      "source": [
        "#@markdown Configuration\n",
        "\n",
        "#@markdown Directories can be found via file explorer on the left by navigating into `drive` to the desired folders. \n",
        "#@markdown Then right-click and `Copy path`.\n",
        "audio_db_dir = \"/content/drive/My Drive/AUDIO DATABASE/RAW Sessions/Roberto Studio Material\" #@param {type:\"string\"}\n",
        "experiment_dir = \"/content/drive/My Drive/IRCMS_GAN_collaborative_database/Experiments/colab-violingan/melgan\" #@param {type:\"string\"}\n",
        "melgan_output_dir = \"/content/drive/My Drive/IRCMS_GAN_collaborative_database/Experiments/colab-violingan/melgan-outputs\" #@param {type:\"string\"}\n",
        "\n",
        "audio_db_dir = Path(audio_db_dir)\n",
        "melgan_output_dir = Path(melgan_output_dir)\n",
        "experiment_dir = Path(experiment_dir)\n",
        "\n",
        "for path in [experiment_dir, melgan_output_dir]:\n",
        "    path.mkdir(parents=True, exist_ok=True)\n",
        "\n",
        "if not audio_db_dir.exists():\n",
        "    raise RuntimeError(\"audio_db_dir {audio_db_dir} does not exists.\")"
      ],
      "execution_count": 7,
      "outputs": []
    },
    {
      "cell_type": "code",
      "metadata": {
        "id": "pBbbEqNZxngL",
        "outputId": "f36bce5d-20fe-4fa3-c1e9-9d3f83333402",
        "colab": {
          "base_uri": "https://localhost:8080/"
        }
      },
      "source": [
        "!git clone https://github.com/buganart/melgan-neurips"
      ],
      "execution_count": 8,
      "outputs": [
        {
          "output_type": "stream",
          "text": [
            "Cloning into 'melgan-neurips'...\n",
            "remote: Enumerating objects: 29, done.\u001b[K\n",
            "remote: Counting objects: 100% (29/29), done.\u001b[K\n",
            "remote: Compressing objects: 100% (24/24), done.\u001b[K\n",
            "remote: Total 143 (delta 13), reused 14 (delta 5), pack-reused 114\u001b[K\n",
            "Receiving objects: 100% (143/143), 34.34 MiB | 14.64 MiB/s, done.\n",
            "Resolving deltas: 100% (65/65), done.\n"
          ],
          "name": "stdout"
        }
      ]
    },
    {
      "cell_type": "code",
      "metadata": {
        "id": "p1AnyVoom4td",
        "outputId": "c2ba2155-a4b1-4791-dfae-36e9aed25b5f",
        "colab": {
          "base_uri": "https://localhost:8080/",
          "height": 34
        }
      },
      "source": [
        "%cd /content/melgan-neurips\n",
        "%pip install -r requirements.txt\n",
        "clear_on_success(\"Dependencies installed.\")"
      ],
      "execution_count": 9,
      "outputs": [
        {
          "output_type": "stream",
          "text": [
            "Dependencies installed.\n"
          ],
          "name": "stdout"
        }
      ]
    },
    {
      "cell_type": "code",
      "metadata": {
        "id": "yhpa_QpwocrO",
        "outputId": "177dd80e-217f-4dec-f4c7-7a91026d6eeb",
        "colab": {
          "base_uri": "https://localhost:8080/"
        }
      },
      "source": [
        "local_wav_dir = Path(\"/content/wavs/\")\n",
        "!find \"{audio_db_dir}\" -maxdepth 1 -type f | xargs -t -d \"\\n\" -I'%%' -P 10 -n 1 rsync -a '%%' \"$local_wav_dir\"/\n",
        "\n",
        "audio_paths = sorted(list(local_wav_dir.glob(\"*\")))\n",
        "num_files = len(audio_paths)\n",
        "print(f\"Database has {num_files} files in total.\")"
      ],
      "execution_count": null,
      "outputs": [
        {
          "output_type": "stream",
          "text": [
            "rsync -a /content/drive/My Drive/AUDIO DATABASE/RAW Sessions/Roberto Studio Material/consolidado ESAIAS.wav /content/wavs/ \n",
            "rsync -a /content/drive/My Drive/AUDIO DATABASE/RAW Sessions/Roberto Studio Material/primer montaje.L.wav /content/wavs/ \n",
            "rsync -a /content/drive/My Drive/AUDIO DATABASE/RAW Sessions/Roberto Studio Material/primer montaje.R.1.wav /content/wavs/ \n",
            "rsync -a /content/drive/My Drive/AUDIO DATABASE/RAW Sessions/Roberto Studio Material/R121_04.1.wav /content/wavs/ \n",
            "rsync -a /content/drive/My Drive/AUDIO DATABASE/RAW Sessions/Roberto Studio Material/ALTEC_04.1.wav /content/wavs/ \n",
            "rsync -a /content/drive/My Drive/AUDIO DATABASE/RAW Sessions/Roberto Studio Material/SANKEN_04.1.wav /content/wavs/ \n",
            "rsync -a /content/drive/My Drive/AUDIO DATABASE/RAW Sessions/Roberto Studio Material/primer montaje.R.wav /content/wavs/ \n",
            "rsync -a /content/drive/My Drive/AUDIO DATABASE/RAW Sessions/Roberto Studio Material/SANKEN_03.1.wav /content/wavs/ \n",
            "rsync -a /content/drive/My Drive/AUDIO DATABASE/RAW Sessions/Roberto Studio Material/ALTEC_03.1.wav /content/wavs/ \n",
            "rsync -a /content/drive/My Drive/AUDIO DATABASE/RAW Sessions/Roberto Studio Material/ALTEC_02.1.wav /content/wavs/ \n",
            "rsync -a /content/drive/My Drive/AUDIO DATABASE/RAW Sessions/Roberto Studio Material/SANKEN_02.1.wav /content/wavs/ \n",
            "rsync -a /content/drive/My Drive/AUDIO DATABASE/RAW Sessions/Roberto Studio Material/R121_03.1.wav /content/wavs/ \n",
            "rsync -a /content/drive/My Drive/AUDIO DATABASE/RAW Sessions/Roberto Studio Material/Click_Day 1.1.wav /content/wavs/ \n",
            "rsync -a /content/drive/My Drive/AUDIO DATABASE/RAW Sessions/Roberto Studio Material/R121_02.1.wav /content/wavs/ \n",
            "rsync -a /content/drive/My Drive/AUDIO DATABASE/RAW Sessions/Roberto Studio Material/R121_06.wav /content/wavs/ \n",
            "rsync -a /content/drive/My Drive/AUDIO DATABASE/RAW Sessions/Roberto Studio Material/SANKEN_06.wav /content/wavs/ \n",
            "rsync -a /content/drive/My Drive/AUDIO DATABASE/RAW Sessions/Roberto Studio Material/ALTEC_06.wav /content/wavs/ \n",
            "rsync -a /content/drive/My Drive/AUDIO DATABASE/RAW Sessions/Roberto Studio Material/AMB_01.R.wav /content/wavs/ \n",
            "rsync -a /content/drive/My Drive/AUDIO DATABASE/RAW Sessions/Roberto Studio Material/AMB_01.L.wav /content/wavs/ \n",
            "rsync -a /content/drive/My Drive/AUDIO DATABASE/RAW Sessions/Roberto Studio Material/VIOLIN CU41_01.wav /content/wavs/ \n",
            "rsync -a /content/drive/My Drive/AUDIO DATABASE/RAW Sessions/Roberto Studio Material/VIOLIN CU41.01_02.wav /content/wavs/ \n",
            "rsync -a /content/drive/My Drive/AUDIO DATABASE/RAW Sessions/Roberto Studio Material/AMB.01_02.R.wav /content/wavs/ \n",
            "rsync -a /content/drive/My Drive/AUDIO DATABASE/RAW Sessions/Roberto Studio Material/AMB.01_02.L.wav /content/wavs/ \n",
            "rsync -a /content/drive/My Drive/AUDIO DATABASE/RAW Sessions/Roberto Studio Material/AMB.01_03.R.wav /content/wavs/ \n",
            "rsync -a /content/drive/My Drive/AUDIO DATABASE/RAW Sessions/Roberto Studio Material/AMB.01_03.L.wav /content/wavs/ \n",
            "rsync -a /content/drive/My Drive/AUDIO DATABASE/RAW Sessions/Roberto Studio Material/VIOLIN CU41.01_03.wav /content/wavs/ \n",
            "rsync -a /content/drive/My Drive/AUDIO DATABASE/RAW Sessions/Roberto Studio Material/AMB.01_04.R.wav /content/wavs/ \n",
            "rsync -a /content/drive/My Drive/AUDIO DATABASE/RAW Sessions/Roberto Studio Material/AMB.01_04.L.wav /content/wavs/ \n",
            "rsync -a /content/drive/My Drive/AUDIO DATABASE/RAW Sessions/Roberto Studio Material/VIOLIN CU41.01_04.wav /content/wavs/ \n",
            "rsync -a /content/drive/My Drive/AUDIO DATABASE/RAW Sessions/Roberto Studio Material/VIOLIN CU41.02_05.wav /content/wavs/ \n",
            "rsync -a /content/drive/My Drive/AUDIO DATABASE/RAW Sessions/Roberto Studio Material/AMB.02_05.R.wav /content/wavs/ \n",
            "rsync -a /content/drive/My Drive/AUDIO DATABASE/RAW Sessions/Roberto Studio Material/AMB.02_05.L.wav /content/wavs/ \n",
            "rsync -a /content/drive/My Drive/AUDIO DATABASE/RAW Sessions/Roberto Studio Material/AMB.02_06.L.wav /content/wavs/ \n",
            "rsync -a /content/drive/My Drive/AUDIO DATABASE/RAW Sessions/Roberto Studio Material/AMB.02_06.R.wav /content/wavs/ \n",
            "rsync -a /content/drive/My Drive/AUDIO DATABASE/RAW Sessions/Roberto Studio Material/VIOLIN CU41.02_06.wav /content/wavs/ \n",
            "rsync -a /content/drive/My Drive/AUDIO DATABASE/RAW Sessions/Roberto Studio Material/VIOLIN CU41.01_07.wav /content/wavs/ \n",
            "rsync -a /content/drive/My Drive/AUDIO DATABASE/RAW Sessions/Roberto Studio Material/AMB.01_07.L.wav /content/wavs/ \n",
            "rsync -a /content/drive/My Drive/AUDIO DATABASE/RAW Sessions/Roberto Studio Material/AMB.01_07.R.wav /content/wavs/ \n",
            "rsync -a /content/drive/My Drive/AUDIO DATABASE/RAW Sessions/Roberto Studio Material/AMB.01_08.R.wav /content/wavs/ \n",
            "rsync -a /content/drive/My Drive/AUDIO DATABASE/RAW Sessions/Roberto Studio Material/AMB.01_08.L.wav /content/wavs/ \n",
            "rsync -a /content/drive/My Drive/AUDIO DATABASE/RAW Sessions/Roberto Studio Material/VIOLIN CU41.01_08.wav /content/wavs/ \n",
            "rsync -a /content/drive/My Drive/AUDIO DATABASE/RAW Sessions/Roberto Studio Material/AMB.02_09.L.wav /content/wavs/ \n",
            "rsync -a /content/drive/My Drive/AUDIO DATABASE/RAW Sessions/Roberto Studio Material/AMB.02_09.R.wav /content/wavs/ \n",
            "rsync -a /content/drive/My Drive/AUDIO DATABASE/RAW Sessions/Roberto Studio Material/VIOLIN CU41.02_09.wav /content/wavs/ \n",
            "rsync -a /content/drive/My Drive/AUDIO DATABASE/RAW Sessions/Roberto Studio Material/AMB.02_10.R.wav /content/wavs/ \n",
            "rsync -a /content/drive/My Drive/AUDIO DATABASE/RAW Sessions/Roberto Studio Material/AMB.02_10.L.wav /content/wavs/ \n",
            "rsync -a /content/drive/My Drive/AUDIO DATABASE/RAW Sessions/Roberto Studio Material/VIOLIN CU41.02_10.wav /content/wavs/ \n",
            "rsync -a /content/drive/My Drive/AUDIO DATABASE/RAW Sessions/Roberto Studio Material/AMB.02_11.R.wav /content/wavs/ \n",
            "rsync -a /content/drive/My Drive/AUDIO DATABASE/RAW Sessions/Roberto Studio Material/VIOLIN CU41.02_11.wav /content/wavs/ \n",
            "rsync -a /content/drive/My Drive/AUDIO DATABASE/RAW Sessions/Roberto Studio Material/AMB.02_11.L.wav /content/wavs/ \n",
            "rsync -a /content/drive/My Drive/AUDIO DATABASE/RAW Sessions/Roberto Studio Material/AMB.01_12.R.wav /content/wavs/ \n",
            "rsync -a /content/drive/My Drive/AUDIO DATABASE/RAW Sessions/Roberto Studio Material/AMB.01_12.L.wav /content/wavs/ \n",
            "rsync -a /content/drive/My Drive/AUDIO DATABASE/RAW Sessions/Roberto Studio Material/VIOLIN CU41.01_12.wav /content/wavs/ \n",
            "rsync -a /content/drive/My Drive/AUDIO DATABASE/RAW Sessions/Roberto Studio Material/AMB.01_13.L.wav /content/wavs/ \n",
            "rsync -a /content/drive/My Drive/AUDIO DATABASE/RAW Sessions/Roberto Studio Material/VIOLIN CU41.01_13.wav /content/wavs/ \n",
            "rsync -a /content/drive/My Drive/AUDIO DATABASE/RAW Sessions/Roberto Studio Material/AMB.01_13.R.wav /content/wavs/ \n",
            "rsync -a /content/drive/My Drive/AUDIO DATABASE/RAW Sessions/Roberto Studio Material/VIOLIN CU41.01_14.wav /content/wavs/ \n",
            "rsync -a /content/drive/My Drive/AUDIO DATABASE/RAW Sessions/Roberto Studio Material/AMB.01_14.L.wav /content/wavs/ \n",
            "rsync -a /content/drive/My Drive/AUDIO DATABASE/RAW Sessions/Roberto Studio Material/AMB.01_14.R.wav /content/wavs/ \n",
            "rsync -a /content/drive/My Drive/AUDIO DATABASE/RAW Sessions/Roberto Studio Material/VIOLIN CU41.02_15.wav /content/wavs/ \n",
            "rsync -a /content/drive/My Drive/AUDIO DATABASE/RAW Sessions/Roberto Studio Material/AMB.02_15.R.wav /content/wavs/ \n",
            "rsync -a /content/drive/My Drive/AUDIO DATABASE/RAW Sessions/Roberto Studio Material/AMB.02_15.L.wav /content/wavs/ \n",
            "rsync -a /content/drive/My Drive/AUDIO DATABASE/RAW Sessions/Roberto Studio Material/AMB.01_16.L.wav /content/wavs/ \n",
            "rsync -a /content/drive/My Drive/AUDIO DATABASE/RAW Sessions/Roberto Studio Material/VIOLIN CU41.01_16.wav /content/wavs/ \n",
            "rsync -a /content/drive/My Drive/AUDIO DATABASE/RAW Sessions/Roberto Studio Material/AMB.01_16.R.wav /content/wavs/ \n",
            "rsync -a /content/drive/My Drive/AUDIO DATABASE/RAW Sessions/Roberto Studio Material/AMB.01_17.R.wav /content/wavs/ \n",
            "rsync -a /content/drive/My Drive/AUDIO DATABASE/RAW Sessions/Roberto Studio Material/AMB.01_17.L.wav /content/wavs/ \n",
            "rsync -a /content/drive/My Drive/AUDIO DATABASE/RAW Sessions/Roberto Studio Material/VIOLIN CU41.01_17.wav /content/wavs/ \n",
            "rsync -a /content/drive/My Drive/AUDIO DATABASE/RAW Sessions/Roberto Studio Material/AMB.02_18.L.wav /content/wavs/ \n",
            "rsync -a /content/drive/My Drive/AUDIO DATABASE/RAW Sessions/Roberto Studio Material/VIOLIN CU41.02_18.wav /content/wavs/ \n",
            "rsync -a /content/drive/My Drive/AUDIO DATABASE/RAW Sessions/Roberto Studio Material/AMB.02_18.R.wav /content/wavs/ \n",
            "rsync -a /content/drive/My Drive/AUDIO DATABASE/RAW Sessions/Roberto Studio Material/AMB.02_19.R.wav /content/wavs/ \n",
            "rsync -a /content/drive/My Drive/AUDIO DATABASE/RAW Sessions/Roberto Studio Material/VIOLIN CU41.02_19.wav /content/wavs/ \n",
            "rsync -a /content/drive/My Drive/AUDIO DATABASE/RAW Sessions/Roberto Studio Material/AMB.02_19.L.wav /content/wavs/ \n",
            "rsync -a /content/drive/My Drive/AUDIO DATABASE/RAW Sessions/Roberto Studio Material/AMB.02_20.R.wav /content/wavs/ \n",
            "rsync -a /content/drive/My Drive/AUDIO DATABASE/RAW Sessions/Roberto Studio Material/AMB.02_20.L.wav /content/wavs/ \n",
            "rsync -a /content/drive/My Drive/AUDIO DATABASE/RAW Sessions/Roberto Studio Material/VIOLIN CU41.02_20.wav /content/wavs/ \n",
            "rsync -a /content/drive/My Drive/AUDIO DATABASE/RAW Sessions/Roberto Studio Material/AMB.01_21.L.wav /content/wavs/ \n",
            "rsync -a /content/drive/My Drive/AUDIO DATABASE/RAW Sessions/Roberto Studio Material/VIOLIN CU41.01_21.wav /content/wavs/ \n",
            "rsync -a /content/drive/My Drive/AUDIO DATABASE/RAW Sessions/Roberto Studio Material/AMB.01_21.R.wav /content/wavs/ \n",
            "rsync -a /content/drive/My Drive/AUDIO DATABASE/RAW Sessions/Roberto Studio Material/AMB.03_22.R.wav /content/wavs/ \n",
            "rsync -a /content/drive/My Drive/AUDIO DATABASE/RAW Sessions/Roberto Studio Material/AMB.03_22.L.wav /content/wavs/ \n",
            "rsync -a /content/drive/My Drive/AUDIO DATABASE/RAW Sessions/Roberto Studio Material/VIOLIN CU41.03_22.wav /content/wavs/ \n",
            "rsync -a /content/drive/My Drive/AUDIO DATABASE/RAW Sessions/Roberto Studio Material/VIOLIN CU41.03_23.wav /content/wavs/ \n",
            "rsync -a /content/drive/My Drive/AUDIO DATABASE/RAW Sessions/Roberto Studio Material/AMB.03_23.L.wav /content/wavs/ \n",
            "rsync -a /content/drive/My Drive/AUDIO DATABASE/RAW Sessions/Roberto Studio Material/AMB.03_23.R.wav /content/wavs/ \n",
            "rsync -a /content/drive/My Drive/AUDIO DATABASE/RAW Sessions/Roberto Studio Material/AMB.01-TmShft_02.R.wav /content/wavs/ \n",
            "rsync -a /content/drive/My Drive/AUDIO DATABASE/RAW Sessions/Roberto Studio Material/VIOLIN CU41.01-TmShft_02.wav /content/wavs/ \n",
            "rsync -a /content/drive/My Drive/AUDIO DATABASE/RAW Sessions/Roberto Studio Material/AMB.01-TmShft_02.L.wav /content/wavs/ \n",
            "rsync -a /content/drive/My Drive/AUDIO DATABASE/RAW Sessions/Roberto Studio Material/R121_05.1.wav /content/wavs/ \n",
            "rsync -a /content/drive/My Drive/AUDIO DATABASE/RAW Sessions/Roberto Studio Material/ALTEC_05.1.wav /content/wavs/ \n",
            "rsync -a /content/drive/My Drive/AUDIO DATABASE/RAW Sessions/Roberto Studio Material/SANKEN_05.wav /content/wavs/ \n",
            "rsync -a /content/drive/My Drive/AUDIO DATABASE/RAW Sessions/Roberto Studio Material/SANKEN-Poly.wav /content/wavs/ \n",
            "rsync -a /content/drive/My Drive/AUDIO DATABASE/RAW Sessions/Roberto Studio Material/R121-Poly.wav /content/wavs/ \n",
            "rsync -a /content/drive/My Drive/AUDIO DATABASE/RAW Sessions/Roberto Studio Material/ALTEC-Poly.wav /content/wavs/ \n",
            "rsync -a /content/drive/My Drive/AUDIO DATABASE/RAW Sessions/Roberto Studio Material/Buide MIX 1.0.wav /content/wavs/ \n",
            "rsync -a /content/drive/My Drive/AUDIO DATABASE/RAW Sessions/Roberto Studio Material/MATAMORO MIX 1.0.wav /content/wavs/ \n",
            "rsync -a /content/drive/My Drive/AUDIO DATABASE/RAW Sessions/Roberto Studio Material/MARCO MIX 1.2.wav /content/wavs/ \n",
            "rsync -a /content/drive/My Drive/AUDIO DATABASE/RAW Sessions/Roberto Studio Material/Esaias MIX 1.1.wav /content/wavs/ \n",
            "rsync -a /content/drive/My Drive/AUDIO DATABASE/RAW Sessions/Roberto Studio Material/EARTH PAR.01_06.L.wav /content/wavs/ \n",
            "rsync -a /content/drive/My Drive/AUDIO DATABASE/RAW Sessions/Roberto Studio Material/EARTH PAR.01_06.R.wav /content/wavs/ \n",
            "rsync -a /content/drive/My Drive/AUDIO DATABASE/RAW Sessions/Roberto Studio Material/RAQUEL.01_01.wav /content/wavs/ \n"
          ],
          "name": "stdout"
        }
      ]
    },
    {
      "cell_type": "code",
      "metadata": {
        "id": "DNA9MpHyNhCU"
      },
      "source": [
        "import numpy as np\n",
        "\n",
        "np.random.seed(123)\n",
        "test_fraction = 0.1\n",
        "shuffled_paths = np.random.permutation(audio_paths)\n",
        "split_at = int((1 - test_fraction) * num_files)\n",
        "train_paths = shuffled_paths[:split_at]\n",
        "test_paths = shuffled_paths[split_at:]\n",
        "\n",
        "with open('train_files.txt', 'w') as f:\n",
        "    for path in sorted(train_paths):\n",
        "        print(path, file=f)\n",
        "\n",
        "with open('test_files.txt', 'w') as f:\n",
        "    for path in sorted(test_paths):\n",
        "        print(path, file=f)\n",
        "\n",
        "print(\"TRAIN FILES\")\n",
        "!cat train_files.txt\n",
        "\n",
        "print()\n",
        "print(\"TEST FILES\")\n",
        "!cat test_files.txt"
      ],
      "execution_count": null,
      "outputs": []
    },
    {
      "cell_type": "code",
      "metadata": {
        "id": "UsD5T5GpolG0"
      },
      "source": [
        "# This done a bit weirdly because setting PYTHONPATH=$PWD removes variables afterwards. A colab bug, maybe.\n",
        "!env PYTHONPATH=\"$(pwd)\" python scripts/train.py --save_path \"$experiment_dir\" --data_path . "
      ],
      "execution_count": null,
      "outputs": []
    },
    {
      "cell_type": "code",
      "metadata": {
        "id": "v3BFJy-6N7m2",
        "cellView": "form"
      },
      "source": [
        "#@markdown Copy the run directory from the beginning of the cell above. \n",
        "\n",
        "#@markdown The line looks something like\n",
        "\n",
        "#@markdown `wandb: Run data is saved locally in /content/drive/.../melgan/wandb/run-20201030_030400-21bhoeww`\n",
        "\n",
        "#@markdown and we only need the part after the last slash.\n",
        "\n",
        "run_dir_name = \"run-20201030_030400-21bhoeww\" #@param {type:\"string\"}\n",
        "\n",
        "run_dir = experiment_dir / \"wandb\" / run_dir_name\n",
        "export_dir = melgan_output_dir / run_dir_name\n",
        "export_dir.mkdir(exist_ok=True, parents=True)\n",
        "\n",
        "melgan_args = run_dir / \"files\" / \"args.yml\"\n",
        "melgan_netG = run_dir / \"files\" / \"best_netG.pt\" \n",
        "\n",
        "!cp -v \"$melgan_args\" \"$export_dir\"\n",
        "!cp -v \"$melgan_netG\" \"$export_dir\"\n",
        "!cp -v \"/content/melgan-neurips/mel2wav/modules.py\" \"$export_dir\"\n",
        "\n",
        "print()\n",
        "print(f\"Melgan files saved in {export_dir}.\")"
      ],
      "execution_count": null,
      "outputs": []
    }
  ]
}