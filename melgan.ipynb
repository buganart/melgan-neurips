{
  "nbformat": 4,
  "nbformat_minor": 0,
  "metadata": {
    "colab": {
      "name": "Melgan Batch Size 16",
      "provenance": [],
      "collapsed_sections": [],
      "machine_shape": "hm",
      "include_colab_link": true
    },
    "kernelspec": {
      "name": "python3",
      "display_name": "Python 3"
    },
    "accelerator": "GPU"
  },
  "cells": [
    {
      "cell_type": "markdown",
      "metadata": {
        "id": "view-in-github",
        "colab_type": "text"
      },
      "source": [
        "<a href=\"https://colab.research.google.com/github/buganart/melgan-neurips/blob/master/melgan.ipynb\" target=\"_parent\"><img src=\"https://colab.research.google.com/assets/colab-badge.svg\" alt=\"Open In Colab\"/></a>"
      ]
    },
    {
      "cell_type": "code",
      "metadata": {
        "id": "jbp-CL5ijb4e",
        "cellView": "form"
      },
      "source": [
        "#@markdown Before starting please save the notebook in your drive by clicking on `File -> Save a copy in drive`"
      ],
      "execution_count": null,
      "outputs": []
    },
    {
      "cell_type": "code",
      "metadata": {
        "id": "XQ-pH7tyK9xW",
        "cellView": "form"
      },
      "source": [
        "#@markdown Check GPU, should be a Tesla V100\n",
        "!nvidia-smi -L\n",
        "import os\n",
        "print(f\"We have {os.cpu_count()} CPU cores.\")"
      ],
      "execution_count": null,
      "outputs": []
    },
    {
      "cell_type": "code",
      "metadata": {
        "id": "BJyxzcLOhgWY",
        "cellView": "form"
      },
      "source": [
        "#@markdown Mount google drive\n",
        "from google.colab import drive\n",
        "drive.mount('/content/drive')\n",
        "\n",
        "from pathlib import Path\n",
        "if not Path(\"/content/drive/My Drive/IRCMS_GAN_collaborative_database\").exists():\n",
        "    raise RuntimeError(\n",
        "        \"Shortcut to our shared drive folder doesn't exits.\\n\\n\"\n",
        "        \"\\t1. Go to the google drive web UI\\n\"\n",
        "        \"\\t2. Right click shared folder IRCMS_GAN_collaborative_database and click \\\"Add shortcut to Drive\\\"\"\n",
        "    )\n",
        "\n",
        "def clear_on_success(msg=\"Ok!\"):\n",
        "    if _exit_code == 0:\n",
        "        output.clear()\n",
        "        print(msg)"
      ],
      "execution_count": null,
      "outputs": []
    },
    {
      "cell_type": "code",
      "metadata": {
        "id": "9-L3BlfGTfbJ",
        "cellView": "form"
      },
      "source": [
        "#@markdown Install wandb and log in\n",
        "from google.colab import output\n",
        "!pip install wandb==0.10.8\n",
        "clear_on_success()\n",
        "!wandb login\n",
        "clear_on_success(\"Ok! Logged into wandb!\")"
      ],
      "execution_count": null,
      "outputs": []
    },
    {
      "cell_type": "code",
      "metadata": {
        "id": "BVjGm8m_q9R6",
        "cellView": "form"
      },
      "source": [
        "#@title Configuration\n",
        "\n",
        "#@markdown Directories can be found via file explorer on the left by navigating into `drive` to the desired folders. \n",
        "#@markdown Then right-click and `Copy path`.\n",
        "audio_db_dir = \"/content/drive/My Drive/AUDIO DATABASE/RAW Sessions/Roberto Studio Material 22050\" #@param {type:\"string\"}\n",
        "experiment_dir = \"/content/drive/My Drive/IRCMS_GAN_collaborative_database/Experiments/colab-violingan/melgan\" #@param {type:\"string\"}\n",
        "melgan_output_dir = \"/content/drive/My Drive/IRCMS_GAN_collaborative_database/Experiments/colab-violingan/melgan-outputs\" #@param {type:\"string\"}\n",
        "\n",
        "#@markdown ### Resumption of previous runs\n",
        "#@markdown Optional resumption arguments below, leaving both empty will start a new run from scratch. \n",
        "#@markdown - The ID can be found on wandb. \n",
        "#@markdown - It's 8 characters long and may contain a-z letters and digits (for example `1t212ycn`).\n",
        "\n",
        "#@markdown Resume a previous run \n",
        "resume_run_id = \"\" #@param {type:\"string\"}\n",
        "#@markdown Load initial weights from a previous run to start a new run.\n",
        "load_from_run_id = \"\" #@param {type:\"string\"}\n",
        "\n",
        "import re\n",
        "from pathlib import Path\n",
        "\n",
        "audio_db_dir = Path(audio_db_dir)\n",
        "melgan_output_dir = Path(melgan_output_dir)\n",
        "experiment_dir = Path(experiment_dir)\n",
        "\n",
        "for path in [experiment_dir, melgan_output_dir]:\n",
        "    path.mkdir(parents=True, exist_ok=True)\n",
        "\n",
        "if not audio_db_dir.exists():\n",
        "    raise RuntimeError(f\"audio_db_dir {audio_db_dir} does not exists.\")\n",
        "\n",
        "if resume_run_id and load_from_run_id:\n",
        "    raise RuntimeError(\"Only set `resume_run_id` or `load_from_run_id`.\")\n",
        "\n",
        "def check_wandb_id(run_id):\n",
        "    if run_id and not re.match(r\"^[\\da-z]{8}$\", run_id):\n",
        "        raise RuntimeError(\n",
        "            \"Run ID needs to be 8 characters long and contain only letters a-z and digits.\\n\"\n",
        "            f\"Got \\\"{run_id}\\\"\"\n",
        "        )\n",
        "\n",
        "check_wandb_id(resume_run_id)\n",
        "check_wandb_id(load_from_run_id)"
      ],
      "execution_count": null,
      "outputs": []
    },
    {
      "cell_type": "code",
      "metadata": {
        "id": "pBbbEqNZxngL"
      },
      "source": [
        "!git clone https://github.com/buganart/melgan-neurips"
      ],
      "execution_count": null,
      "outputs": []
    },
    {
      "cell_type": "code",
      "metadata": {
        "id": "p1AnyVoom4td"
      },
      "source": [
        "%cd /content/melgan-neurips\n",
        "%pip install -r requirements.txt\n",
        "clear_on_success(\"Dependencies installed.\")"
      ],
      "execution_count": null,
      "outputs": []
    },
    {
      "cell_type": "code",
      "metadata": {
        "id": "yhpa_QpwocrO"
      },
      "source": [
        "local_wav_dir = Path(\"/content/wavs/\")\n",
        "!find \"{audio_db_dir}\" -maxdepth 1 -type f | xargs -t -d \"\\n\" -I'%%' -P 10 -n 1 rsync -a '%%' \"$local_wav_dir\"/\n",
        "clear_on_success(\"All files copied to this runtime.\")\n",
        "\n",
        "audio_paths = sorted(list(local_wav_dir.glob(\"*\")))\n",
        "num_files = len(audio_paths)\n",
        "print(f\"Database has {num_files} files in total.\")"
      ],
      "execution_count": null,
      "outputs": []
    },
    {
      "cell_type": "code",
      "metadata": {
        "id": "DNA9MpHyNhCU"
      },
      "source": [
        "import numpy as np\n",
        "\n",
        "np.random.seed(123)\n",
        "test_fraction = 0.1\n",
        "shuffled_paths = np.random.permutation(audio_paths)\n",
        "split_at = int((1 - test_fraction) * num_files)\n",
        "train_paths = shuffled_paths[:split_at]\n",
        "test_paths = shuffled_paths[split_at:]\n",
        "\n",
        "with open('train_files.txt', 'w') as f:\n",
        "    for path in sorted(train_paths):\n",
        "        print(path, file=f)\n",
        "\n",
        "with open('test_files.txt', 'w') as f:\n",
        "    for path in sorted(test_paths):\n",
        "        print(path, file=f)\n",
        "\n",
        "print(\"TRAIN FILES\")\n",
        "!head -n3 train_files.txt\n",
        "print('...')\n",
        "!tail -n3 train_files.txt\n",
        "\n",
        "print()\n",
        "print(\"TEST FILES\")\n",
        "!head -n3 test_files.txt\n",
        "print('...')\n",
        "!tail -n3 test_files.txt"
      ],
      "execution_count": null,
      "outputs": []
    },
    {
      "cell_type": "code",
      "metadata": {
        "id": "UsD5T5GpolG0"
      },
      "source": [
        "# This done a bit weirdly because setting PYTHONPATH=$PWD removes variables afterwards. A colab bug, maybe.\n",
        "!env PYTHONPATH=\"$(pwd)\" python scripts/train.py --batch_size 16 --save_path \"$experiment_dir\" --data_path . --resume_run_id \"$resume_run_id\" --load_from_run_id \"$load_from_run_id\""
      ],
      "execution_count": null,
      "outputs": []
    },
    {
      "cell_type": "code",
      "metadata": {
        "id": "v3BFJy-6N7m2",
        "cellView": "form"
      },
      "source": [
        "#@markdown Copy the run directory from the beginning of the cell above. \n",
        "\n",
        "#@markdown The line looks something like\n",
        "\n",
        "#@markdown `wandb: Run data is saved locally in /content/drive/.../melgan/wandb/run-20201030_030400-21bhoeww`\n",
        "\n",
        "#@markdown and we only need the part after the last slash.\n",
        "\n",
        "run_dir_name = \"run-20201030_030400-21bhoeww\" #@param {type:\"string\"}\n",
        "\n",
        "run_dir = experiment_dir / \"wandb\" / run_dir_name\n",
        "export_dir = melgan_output_dir / run_dir_name\n",
        "export_dir.mkdir(exist_ok=True, parents=True)\n",
        "\n",
        "melgan_args = run_dir / \"files\" / \"args.yml\"\n",
        "melgan_netG = run_dir / \"files\" / \"best_netG.pt\" \n",
        "\n",
        "!cp -v \"$melgan_args\" \"$export_dir\"\n",
        "!cp -v \"$melgan_netG\" \"$export_dir\"\n",
        "!cp -v \"/content/melgan-neurips/mel2wav/modules.py\" \"$export_dir\"\n",
        "\n",
        "print()\n",
        "print(f\"Melgan files saved in {export_dir}.\")"
      ],
      "execution_count": null,
      "outputs": []
    }
  ]
}