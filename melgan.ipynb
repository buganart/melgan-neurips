{
  "nbformat": 4,
  "nbformat_minor": 0,
  "metadata": {
    "colab": {
      "name": "melgan.ipynb",
      "provenance": [],
      "collapsed_sections": [],
      "include_colab_link": true
    },
    "kernelspec": {
      "name": "python3",
      "display_name": "Python 3"
    },
    "accelerator": "GPU"
  },
  "cells": [
    {
      "cell_type": "markdown",
      "metadata": {
        "id": "view-in-github",
        "colab_type": "text"
      },
      "source": [
        "<a href=\"https://colab.research.google.com/github/buganart/melgan-neurips/blob/master/melgan.ipynb\" target=\"_parent\"><img src=\"https://colab.research.google.com/assets/colab-badge.svg\" alt=\"Open In Colab\"/></a>"
      ]
    },
    {
      "cell_type": "code",
      "metadata": {
        "id": "XQ-pH7tyK9xW",
        "cellView": "form"
      },
      "source": [
        "#@markdown Check GPU, should be a Tesla V1000\n",
        "!nvidia-smi -L"
      ],
      "execution_count": null,
      "outputs": []
    },
    {
      "cell_type": "code",
      "metadata": {
        "id": "BJyxzcLOhgWY",
        "cellView": "form"
      },
      "source": [
        "#@markdown Mount google drive\n",
        "from google.colab import drive\n",
        "drive.mount('/content/drive')\n",
        "\n",
        "from pathlib import Path\n",
        "if not Path(\"/content/drive/My Drive/IRCMS_GAN_collaborative_database\").exists():\n",
        "    raise RuntimeError(\n",
        "        \"Shortcut to our shared drive folder doesn't exits.\\n\\n\"\n",
        "        \"\\t1. Go to the google drive web UI\\n\"\n",
        "        \"\\t2. Right click shared folder IRCMS_GAN_collaborative_database and click \\\"Add shortcut to Drive\\\"\"\n",
        "    )\n",
        "\n",
        "def clear_on_success(msg=\"Ok!\"):\n",
        "    if _exit_code == 0:\n",
        "        output.clear()\n",
        "        print(msg)"
      ],
      "execution_count": null,
      "outputs": []
    },
    {
      "cell_type": "code",
      "metadata": {
        "id": "9-L3BlfGTfbJ",
        "cellView": "form"
      },
      "source": [
        "#@markdown Install wandb and log in\n",
        "from google.colab import output\n",
        "!pip install wandb==0.10.8\n",
        "clear_on_success()\n",
        "!wandb login\n",
        "clear_on_success(\"Ok! Logged into wandb!\")"
      ],
      "execution_count": null,
      "outputs": []
    },
    {
      "cell_type": "code",
      "metadata": {
        "id": "BVjGm8m_q9R6",
        "cellView": "form"
      },
      "source": [
        "#@markdown Configuration\n",
        "\n",
        "audio_db_dir = \"/content/drive/My Drive/AUDIO DATABASE/TESTING\" #@param {type:\"string\"}\n",
        "experiment_dir = \"/content/drive/My Drive/IRCMS_GAN_collaborative_database/Experiments/colab-violingan/melgan\" #@param {type:\"string\"}\n",
        "melgan_output_dir = \"/content/drive/My Drive/IRCMS_GAN_collaborative_database/Experiments/colab-violingan/melgan-outputs\" #@param {type:\"string\"}\n",
        "\n",
        "audio_db_dir = Path(audio_db_dir)\n",
        "melgan_output_dir = Path(melgan_output_dir)\n",
        "experiment_dir = Path(experiment_dir)\n",
        "\n",
        "for path in [experiment_dir, melgan_output_dir]:\n",
        "    path.mkdir(parents=True, exist_ok=True)\n",
        "\n",
        "if not audio_db_dir.exists():\n",
        "    raise RuntimeError(\"audio_db_dir {audio_db_dir} does not exists.\")"
      ],
      "execution_count": null,
      "outputs": []
    },
    {
      "cell_type": "code",
      "metadata": {
        "id": "pBbbEqNZxngL"
      },
      "source": [
        "!git clone https://github.com/buganart/melgan-neurips"
      ],
      "execution_count": null,
      "outputs": []
    },
    {
      "cell_type": "code",
      "metadata": {
        "id": "p1AnyVoom4td"
      },
      "source": [
        "%cd /content/melgan-neurips\n",
        "%pip install -r requirements.txt\n",
        "clear_on_success(\"Dependencies installed.\")"
      ],
      "execution_count": null,
      "outputs": []
    },
    {
      "cell_type": "markdown",
      "metadata": {
        "id": "2pShrStqWhmq"
      },
      "source": [
        "Below: change /MYDIRECTORY to the desired directory name\n"
      ]
    },
    {
      "cell_type": "code",
      "metadata": {
        "id": "yhpa_QpwocrO"
      },
      "source": [
        "local_wav_dir = Path(\"/content/wavs/\")\n",
        "!rsync -avP \"$audio_db_dir\"/ \"$local_wav_dir\"/"
      ],
      "execution_count": null,
      "outputs": []
    },
    {
      "cell_type": "code",
      "metadata": {
        "id": "qfYMFQ523O21"
      },
      "source": [
        "!ls \"$local_wav_dir\"/*.wav | head -n 100 > train_files.txt\n",
        "!ls \"$local_wav_dir\"/*.wav | tail -n 80 > test_files.txt\n",
        "print(\"Test\")\n",
        "!cat test_files.txt\n",
        "\n",
        "print(\"Train\")\n",
        "!cat train_files.txt"
      ],
      "execution_count": null,
      "outputs": []
    },
    {
      "cell_type": "code",
      "metadata": {
        "id": "UsD5T5GpolG0"
      },
      "source": [
        "# This done a bit weirdly because setting PYTHONPATH=$PWD removes variables afterwards. A colab bug, maybe.\n",
        "!env PYTHONPATH=\"$(pwd)\" python scripts/train.py --save_path \"$experiment_dir\" --data_path . "
      ],
      "execution_count": null,
      "outputs": []
    },
    {
      "cell_type": "code",
      "metadata": {
        "id": "v3BFJy-6N7m2"
      },
      "source": [
        "import fnmatch\n",
        "import os\n",
        "\n",
        "for folder in os.listdir(\"/content/melgan-neurips/wandb/\"):\n",
        "    if folder.startswith ('run-'):\n",
        "        print (folder)\n",
        "        run_dir = folder"
      ],
      "execution_count": null,
      "outputs": []
    },
    {
      "cell_type": "code",
      "metadata": {
        "id": "Rrpne8vQ3Adh"
      },
      "source": [
        "melgan_args = \"/content/melgan-neurips/checkpoints/wandb/\" + run_dir + \"/files/args.yml\"\n",
        "melgan_netG = \"/content/melgan-neurips/checkpoints/wandb/\" + run_dir + /files/best_netG.pt\"\n",
        "melgan_output_dir = \"/content/drive/My Drive/\" + melgan_output_location\n",
        "%mkdir -p melgan_output_dir"
      ],
      "execution_count": null,
      "outputs": []
    },
    {
      "cell_type": "code",
      "metadata": {
        "id": "GKccNr4l0dc3"
      },
      "source": [
        "cp \"$melgan_args\" \"$melgan_output_dir\""
      ],
      "execution_count": null,
      "outputs": []
    },
    {
      "cell_type": "code",
      "metadata": {
        "id": "ngCJrXYWaF4C"
      },
      "source": [
        "!ls"
      ],
      "execution_count": null,
      "outputs": []
    },
    {
      "cell_type": "code",
      "metadata": {
        "id": "5Cwq9QAC08dt"
      },
      "source": [
        "cp \"$melgan_netG\" \"$melgan_output_dir\""
      ],
      "execution_count": null,
      "outputs": []
    },
    {
      "cell_type": "code",
      "metadata": {
        "id": "y2-7LzyR03E2"
      },
      "source": [
        "cp \"/content/melgan-neurips/mel2wav/modules.py\" \"$melgan_output_dir\""
      ],
      "execution_count": null,
      "outputs": []
    }
  ]
}