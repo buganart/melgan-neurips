{
  "nbformat": 4,
  "nbformat_minor": 0,
  "metadata": {
    "colab": {
      "name": "Resample Audio",
      "provenance": [],
      "collapsed_sections": [],
      "machine_shape": "hm",
      "include_colab_link": true
    },
    "kernelspec": {
      "name": "python3",
      "display_name": "Python 3"
    },
    "accelerator": "GPU"
  },
  "cells": [
    {
      "cell_type": "markdown",
      "metadata": {
        "id": "view-in-github",
        "colab_type": "text"
      },
      "source": [
        "<a href=\"https://colab.research.google.com/github/buganart/melgan-neurips/blob/master/Resample_Audio.ipynb\" target=\"_parent\"><img src=\"https://colab.research.google.com/assets/colab-badge.svg\" alt=\"Open In Colab\"/></a>"
      ]
    },
    {
      "cell_type": "code",
      "metadata": {
        "id": "jbp-CL5ijb4e",
        "cellView": "form"
      },
      "source": [
        "#@markdown Before starting please save the notebook in your drive by clicking on `File -> Save a copy in drive`"
      ],
      "execution_count": null,
      "outputs": []
    },
    {
      "cell_type": "code",
      "metadata": {
        "id": "XQ-pH7tyK9xW",
        "cellView": "form",
        "outputId": "9fdcbc51-4b7c-4c22-98cc-bd0e4718b04e",
        "colab": {
          "base_uri": "https://localhost:8080/"
        }
      },
      "source": [
        "#@markdown Check how many CPUs we have, you can choose a high memory instance to get 4.\n",
        "import os\n",
        "print(f\"We have {os.cpu_count()} CPU cores.\")"
      ],
      "execution_count": 3,
      "outputs": [
        {
          "output_type": "stream",
          "text": [
            "We have 4 CPU cores.\n"
          ],
          "name": "stdout"
        }
      ]
    },
    {
      "cell_type": "code",
      "metadata": {
        "id": "BJyxzcLOhgWY",
        "cellView": "form",
        "outputId": "6cde8204-87cf-4e81-eb96-4f1cdf8e5b04",
        "colab": {
          "base_uri": "https://localhost:8080/"
        }
      },
      "source": [
        "#@markdown Mount google drive\n",
        "from google.colab import drive\n",
        "drive.mount('/content/drive')\n",
        "\n",
        "from pathlib import Path\n",
        "if not Path(\"/content/drive/My Drive/IRCMS_GAN_collaborative_database\").exists():\n",
        "    raise RuntimeError(\n",
        "        \"Shortcut to our shared drive folder doesn't exits.\\n\\n\"\n",
        "        \"\\t1. Go to the google drive web UI\\n\"\n",
        "        \"\\t2. Right click shared folder IRCMS_GAN_collaborative_database and click \\\"Add shortcut to Drive\\\"\"\n",
        "    )\n",
        "\n",
        "def clear_on_success(msg=\"Ok!\"):\n",
        "    if _exit_code == 0:\n",
        "        output.clear()\n",
        "        print(msg)"
      ],
      "execution_count": 4,
      "outputs": [
        {
          "output_type": "stream",
          "text": [
            "Mounted at /content/drive\n"
          ],
          "name": "stdout"
        }
      ]
    },
    {
      "cell_type": "code",
      "metadata": {
        "id": "BVjGm8m_q9R6",
        "cellView": "form"
      },
      "source": [
        "#@markdown Configuration\n",
        "\n",
        "#@markdown Directories can be found via file explorer on the left by navigating into `drive` to the desired folders. \n",
        "#@markdown Then right-click and `Copy path`.\n",
        "audio_db_dir = \"/content/drive/My Drive/AUDIO DATABASE/RAW Sessions/Roberto Studio Material\" #@param {type:\"string\"}\n",
        "resample_dir = \"/content/drive/My Drive/AUDIO DATABASE/RAW Sessions/Roberto Studio Material Resampled\" #@param {type:\"string\"}\n",
        "sample_rate = 22050 #@param {type:\"string\"}\n",
        "sample_rate = int(sample_rate)\n",
        "\n",
        "audio_db_dir = Path(audio_db_dir)\n",
        "resample_dir = Path(resample_dir)\n",
        "\n",
        "resample_dir.mkdir(parents=True, exist_ok=True)\n",
        "\n",
        "if not audio_db_dir.exists():\n",
        "    raise RuntimeError(\"audio_db_dir {audio_db_dir} does not exists.\")"
      ],
      "execution_count": 5,
      "outputs": []
    },
    {
      "cell_type": "code",
      "metadata": {
        "id": "c0Zi1rISOeXO",
        "cellView": "form",
        "outputId": "0fddc42f-2146-458b-efd6-22ee01d1e22c",
        "colab": {
          "base_uri": "https://localhost:8080/"
        }
      },
      "source": [
        "#@title\n",
        "import subprocess\n",
        "from pathlib import Path\n",
        "\n",
        "from joblib import Parallel, delayed\n",
        "\n",
        "\n",
        "def convert(input, output, sample_rate):\n",
        "    command = [\"ffmpeg\", \"-i\", str(input), \"-y\", \"-ar\", str(sample_rate), str(output)]\n",
        "    try:\n",
        "        return subprocess.check_output(command, stderr=subprocess.STDOUT,)\n",
        "    except subprocess.CalledProcessError as exc:\n",
        "        print(f\"Return code: {exc.returncode}\\n\", exc.output)\n",
        "        raise\n",
        "\n",
        "\n",
        "def main(*, in_dir, out_dir, sample_rate):\n",
        "    in_dir = Path(in_dir)\n",
        "    out_dir = Path(out_dir)\n",
        "    in_paths = list(Path(in_dir).rglob(\"*.*\"))\n",
        "    out_paths = [out_dir / in_path.relative_to(in_dir) for in_path in in_paths]\n",
        "\n",
        "    for sub_dir in set(out_path.parent for out_path in out_paths):\n",
        "        sub_dir.mkdir(exist_ok=True, parents=True)\n",
        "\n",
        "    Parallel(n_jobs=-1, verbose=2)(\n",
        "        delayed(convert)(in_path, out_path, sample_rate)\n",
        "        for in_path, out_path in zip(in_paths, out_paths)\n",
        "    )\n",
        "\n",
        "main(in_dir=audio_db_dir, out_dir=resample_dir, sample_rate=sample_rate)"
      ],
      "execution_count": null,
      "outputs": [
        {
          "output_type": "stream",
          "text": [
            "[Parallel(n_jobs=-1)]: Using backend LokyBackend with 4 concurrent workers.\n",
            "[Parallel(n_jobs=-1)]: Done  33 tasks      | elapsed:   44.7s\n"
          ],
          "name": "stderr"
        }
      ]
    }
  ]
}