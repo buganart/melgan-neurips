{
  "nbformat": 4,
  "nbformat_minor": 0,
  "metadata": {
    "colab": {
      "name": "Resample Audio",
      "provenance": [],
      "collapsed_sections": [],
      "machine_shape": "hm",
      "include_colab_link": true
    },
    "kernelspec": {
      "name": "python3",
      "display_name": "Python 3"
    }
  },
  "cells": [
    {
      "cell_type": "markdown",
      "metadata": {
        "id": "view-in-github",
        "colab_type": "text"
      },
      "source": [
        "<a href=\"https://colab.research.google.com/github/buganart/melgan-neurips/blob/master/Resample_Audio.ipynb\" target=\"_parent\"><img src=\"https://colab.research.google.com/assets/colab-badge.svg\" alt=\"Open In Colab\"/></a>"
      ]
    },
    {
      "cell_type": "code",
      "metadata": {
        "id": "jbp-CL5ijb4e",
        "cellView": "form"
      },
      "source": [
        "#@markdown Before starting please save the notebook in your drive by clicking on `File -> Save a copy in drive`"
      ],
      "execution_count": null,
      "outputs": []
    },
    {
      "cell_type": "code",
      "metadata": {
        "id": "XQ-pH7tyK9xW",
        "cellView": "form",
        "outputId": "b0949b7c-502c-4859-e08e-f6c5ff426d04",
        "colab": {
          "base_uri": "https://localhost:8080/"
        }
      },
      "source": [
        "#@markdown Check how many CPUs we have, you can choose a high memory instance to get 4.\n",
        "import os\n",
        "print(f\"We have {os.cpu_count()} CPU cores.\")"
      ],
      "execution_count": 1,
      "outputs": [
        {
          "output_type": "stream",
          "text": [
            "We have 4 CPU cores.\n"
          ],
          "name": "stdout"
        }
      ]
    },
    {
      "cell_type": "code",
      "metadata": {
        "id": "BJyxzcLOhgWY",
        "cellView": "form",
        "outputId": "ead5ae4e-0240-4482-9bea-b16705fc029e",
        "colab": {
          "base_uri": "https://localhost:8080/"
        }
      },
      "source": [
        "#@markdown Mount google drive\n",
        "from google.colab import drive, output\n",
        "drive.mount('/content/drive')\n",
        "\n",
        "from pathlib import Path\n",
        "if not Path(\"/content/drive/My Drive/IRCMS_GAN_collaborative_database\").exists():\n",
        "    raise RuntimeError(\n",
        "        \"Shortcut to our shared drive folder doesn't exits.\\n\\n\"\n",
        "        \"\\t1. Go to the google drive web UI\\n\"\n",
        "        \"\\t2. Right click shared folder IRCMS_GAN_collaborative_database and click \\\"Add shortcut to Drive\\\"\"\n",
        "    )\n",
        "\n",
        "def clear_on_success(msg=\"Ok!\"):\n",
        "    if _exit_code == 0:\n",
        "        output.clear()\n",
        "        print(msg)"
      ],
      "execution_count": 4,
      "outputs": [
        {
          "output_type": "stream",
          "text": [
            "Drive already mounted at /content/drive; to attempt to forcibly remount, call drive.mount(\"/content/drive\", force_remount=True).\n"
          ],
          "name": "stdout"
        }
      ]
    },
    {
      "cell_type": "code",
      "metadata": {
        "id": "BVjGm8m_q9R6",
        "cellView": "form"
      },
      "source": [
        "#@markdown Configuration\n",
        "\n",
        "#@markdown Directories can be found via file explorer on the left by navigating into `drive` to the desired folders. \n",
        "#@markdown Then right-click and `Copy path`.\n",
        "audio_db_dir = \"/content/drive/My Drive/AUDIO DATABASE/RAW Sessions/Roberto Studio Material\" #@param {type:\"string\"}\n",
        "resample_dir = \"/content/drive/My Drive/AUDIO DATABASE/RAW Sessions/Roberto Studio Material 22050\" #@param {type:\"string\"}\n",
        "sample_rate = 22050 #@param {type:\"string\"}\n",
        "sample_rate = int(sample_rate)\n",
        "\n",
        "audio_db_dir = Path(audio_db_dir)\n",
        "resample_dir = Path(resample_dir)\n",
        "\n",
        "resample_dir.mkdir(parents=True, exist_ok=True)\n",
        "\n",
        "if not audio_db_dir.exists():\n",
        "    raise RuntimeError(\"audio_db_dir {audio_db_dir} does not exists.\")"
      ],
      "execution_count": 7,
      "outputs": []
    },
    {
      "cell_type": "code",
      "metadata": {
        "id": "lhCOTJPNaRJg",
        "cellView": "form",
        "outputId": "cfb3d9e9-f3e3-431a-edae-30d142d8bc4e",
        "colab": {
          "base_uri": "https://localhost:8080/"
        }
      },
      "source": [
        "#@markdown Install recent ffmpeg.\n",
        "!add-apt-repository -y ppa:jonathonf/ffmpeg-4\n",
        "!apt install ffmpeg\n",
        "clear_on_success(\"ffmpeg installed.\")\n",
        "!ffmpeg -version"
      ],
      "execution_count": 5,
      "outputs": [
        {
          "output_type": "stream",
          "text": [
            "ffmpeg installed.\n",
            "ffmpeg version 4.3.1-0york0~18.04 Copyright (c) 2000-2020 the FFmpeg developers\n",
            "built with gcc 7 (Ubuntu 7.5.0-3ubuntu1~18.04)\n",
            "configuration: --prefix=/usr --extra-version='0york0~18.04' --toolchain=hardened --libdir=/usr/lib/x86_64-linux-gnu --incdir=/usr/include/x86_64-linux-gnu --arch=amd64 --enable-gpl --disable-stripping --enable-avresample --disable-filter=resample --enable-gnutls --enable-ladspa --enable-libaom --enable-libass --enable-libbluray --enable-libbs2b --enable-libcaca --enable-libcdio --enable-libcodec2 --enable-libflite --enable-libfontconfig --enable-libfreetype --enable-libfribidi --enable-libgme --enable-libgsm --enable-libjack --enable-libmp3lame --enable-libmysofa --enable-libopenjpeg --enable-libopenmpt --enable-libopus --enable-libpulse --enable-librabbitmq --enable-librsvg --enable-librubberband --enable-libshine --enable-libsnappy --enable-libsoxr --enable-libspeex --enable-libsrt --enable-libssh --enable-libtheora --enable-libtwolame --enable-libvidstab --enable-libvorbis --enable-libvpx --enable-libwavpack --enable-libwebp --enable-libx265 --enable-libxml2 --enable-libxvid --enable-libzmq --enable-libzvbi --enable-lv2 --enable-omx --enable-openal --enable-opencl --enable-opengl --enable-sdl2 --enable-libzimg --enable-pocketsphinx --enable-libdc1394 --enable-libdrm --enable-libiec61883 --enable-chromaprint --enable-frei0r --enable-libx264 --enable-shared\n",
            "libavutil      56. 51.100 / 56. 51.100\n",
            "libavcodec     58. 91.100 / 58. 91.100\n",
            "libavformat    58. 45.100 / 58. 45.100\n",
            "libavdevice    58. 10.100 / 58. 10.100\n",
            "libavfilter     7. 85.100 /  7. 85.100\n",
            "libavresample   4.  0.  0 /  4.  0.  0\n",
            "libswscale      5.  7.100 /  5.  7.100\n",
            "libswresample   3.  7.100 /  3.  7.100\n",
            "libpostproc    55.  7.100 / 55.  7.100\n"
          ],
          "name": "stdout"
        }
      ]
    },
    {
      "cell_type": "code",
      "metadata": {
        "id": "c0Zi1rISOeXO",
        "cellView": "form",
        "outputId": "7a9d5a04-93f3-4a96-999a-36a70aa173a6",
        "colab": {
          "base_uri": "https://localhost:8080/"
        }
      },
      "source": [
        "#@markdown Resample audio files.\n",
        "import subprocess\n",
        "from pathlib import Path\n",
        "\n",
        "from joblib import Parallel, delayed\n",
        "\n",
        "\n",
        "def convert(input, output, sample_rate):\n",
        "    command = [\"ffmpeg\", \"-i\", str(input), \"-y\", \"-ar\", str(sample_rate), str(output)]\n",
        "    try:\n",
        "        return subprocess.check_output(command, stderr=subprocess.STDOUT,)\n",
        "    except subprocess.CalledProcessError as exc:\n",
        "        print(f\"Return code: {exc.returncode}\\n\", exc.output)\n",
        "        raise\n",
        "\n",
        "\n",
        "def main(*, in_dir, out_dir, sample_rate):\n",
        "    in_dir = Path(in_dir)\n",
        "    out_dir = Path(out_dir)\n",
        "    in_paths = list(Path(in_dir).rglob(\"*.*\"))\n",
        "    out_paths = [out_dir / in_path.relative_to(in_dir) for in_path in in_paths]\n",
        "\n",
        "    for sub_dir in set(out_path.parent for out_path in out_paths):\n",
        "        sub_dir.mkdir(exist_ok=True, parents=True)\n",
        "\n",
        "    Parallel(n_jobs=-1, backend='multiprocessing', verbose=2)(\n",
        "        delayed(convert)(in_path, out_path, sample_rate)\n",
        "        for in_path, out_path in zip(in_paths, out_paths)\n",
        "    )\n",
        "\n",
        "main(in_dir=audio_db_dir, out_dir=resample_dir, sample_rate=sample_rate)\n",
        "\n",
        "print('Done!')"
      ],
      "execution_count": null,
      "outputs": [
        {
          "output_type": "stream",
          "text": [
            "[Parallel(n_jobs=-1)]: Using backend MultiprocessingBackend with 4 concurrent workers.\n",
            "[Parallel(n_jobs=-1)]: Done  33 tasks      | elapsed:  1.1min\n",
            "[Parallel(n_jobs=-1)]: Done 154 tasks      | elapsed:  3.4min\n",
            "[Parallel(n_jobs=-1)]: Done 357 tasks      | elapsed:  4.9min\n"
          ],
          "name": "stderr"
        }
      ]
    },
    {
      "cell_type": "code",
      "metadata": {
        "id": "2jjxQIYUh1Fb"
      },
      "source": [
        ""
      ],
      "execution_count": null,
      "outputs": []
    }
  ]
}